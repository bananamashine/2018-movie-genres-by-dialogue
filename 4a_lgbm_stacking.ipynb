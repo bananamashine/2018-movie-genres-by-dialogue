{
 "cells": [
  {
   "cell_type": "code",
   "execution_count": 1,
   "metadata": {},
   "outputs": [],
   "source": [
    "import os\n",
    "import pandas as pd\n",
    "import numpy as np\n",
    "import warnings, math, re, pickle, gc, operator, multiprocess, scipy, string, tqdm\n",
    "warnings.filterwarnings('ignore')\n",
    "\n",
    "from sklearn.model_selection import GridSearchCV, StratifiedKFold, cross_val_score, KFold\n",
    "from sklearn.metrics import roc_auc_score\n",
    "from sklearn.feature_extraction.text import CountVectorizer\n",
    "from sklearn.model_selection import ParameterSampler\n",
    "\n",
    "import lightgbm as lgbm\n",
    "from lightgbm.sklearn import LGBMClassifier\n",
    "\n",
    "import matplotlib.pyplot as plt\n",
    "%matplotlib inline\n",
    "%load_ext autotime\n",
    "\n",
    "from sklearn.feature_extraction.text import CountVectorizer, TfidfVectorizer\n",
    "from sklearn.preprocessing import FunctionTransformer\n",
    "from sklearn.pipeline import make_pipeline, make_union, Pipeline\n",
    "from sklearn.metrics import log_loss, roc_auc_score\n",
    "from sklearn.base import BaseEstimator, ClassifierMixin\n",
    "from sklearn.utils.validation import check_X_y, check_is_fitted\n",
    "from sklearn.linear_model import LogisticRegression\n",
    "from operator import itemgetter\n",
    "from typing import List, Dict\n",
    "\n",
    "def on_field(f: str, *vec) -> Pipeline:\n",
    "    return make_pipeline(FunctionTransformer(itemgetter(f), validate=False), *vec)"
   ]
  },
  {
   "cell_type": "code",
   "execution_count": 3,
   "metadata": {},
   "outputs": [
    {
     "name": "stdout",
     "output_type": "stream",
     "text": [
      "time: 636 ms\n"
     ]
    }
   ],
   "source": [
    "train = pd.read_csv('/home/bananamachine/.kaggle/competitions/movie-genres-by-dialogue/train.csv.zip')\n",
    "test = pd.read_csv('/home/bananamachine/.kaggle/competitions/movie-genres-by-dialogue/X_test.csv.zip')\n",
    "sample_submission = pd.read_csv('/home/bananamachine/.kaggle/competitions/movie-genres-by-dialogue/sample_submission_most_popular.csv')\n",
    "\n",
    "def clean_labels(text):\n",
    "    text = re.sub('-', '', text)\n",
    "    return text \n",
    "\n",
    "train.genres = train.genres.map(lambda x: clean_labels(x))\n",
    "label_vectorizer = CountVectorizer()\n",
    "train_y = label_vectorizer.fit_transform(train.genres).todense()\n",
    "label_cols = label_vectorizer.get_feature_names()"
   ]
  },
  {
   "cell_type": "markdown",
   "metadata": {},
   "source": [
    ">### Add features"
   ]
  },
  {
   "cell_type": "code",
   "execution_count": 35,
   "metadata": {},
   "outputs": [
    {
     "data": {
      "application/vnd.jupyter.widget-view+json": {
       "model_id": "c1da0fc2af584b09b03ec82ec6c97b36",
       "version_major": 2,
       "version_minor": 0
      },
      "text/plain": [
       "HBox(children=(IntProgress(value=0, max=36991), HTML(value='')))"
      ]
     },
     "metadata": {},
     "output_type": "display_data"
    },
    {
     "name": "stdout",
     "output_type": "stream",
     "text": [
      "\n"
     ]
    },
    {
     "data": {
      "application/vnd.jupyter.widget-view+json": {
       "model_id": "f19bb39c12cc4b2faaaca6a8f8eb893a",
       "version_major": 2,
       "version_minor": 0
      },
      "text/plain": [
       "HBox(children=(IntProgress(value=0, max=9403), HTML(value='')))"
      ]
     },
     "metadata": {},
     "output_type": "display_data"
    },
    {
     "name": "stdout",
     "output_type": "stream",
     "text": [
      "\n",
      "time: 16.3 s\n"
     ]
    }
   ],
   "source": [
    "from nltk import pos_tag, word_tokenize\n",
    "\n",
    "def pos_tags(data):\n",
    "    if __name__ == \"__main__\": \n",
    "        with multiprocess.Pool() as p:\n",
    "            result = list(tqdm.tqdm_notebook(p.imap(lambda x: \" \".join([toople[1] if toople else '' for toople in pos_tag(word_tokenize(x))]), \n",
    "                                                    iter(data), chunksize=100), total=len(data)))\n",
    "        return result\n",
    "\n",
    "train['dialogue_pos'] = pos_tags(train['dialogue'])\n",
    "test['dialogue_pos'] = pos_tags(test['dialogue'])"
   ]
  },
  {
   "cell_type": "code",
   "execution_count": 11,
   "metadata": {},
   "outputs": [
    {
     "name": "stdout",
     "output_type": "stream",
     "text": [
      "time: 2.54 s\n"
     ]
    }
   ],
   "source": [
    "vectorizer = make_union(\n",
    "    on_field('dialogue_pos', TfidfVectorizer(sublinear_tf=True, token_pattern='\\w+')),\n",
    ")\n",
    "\n",
    "pos_features = \\\n",
    "    TfidfVectorizer(sublinear_tf=True, token_pattern='\\w+')\\\n",
    "        .fit(train['dialogue_pos'])\\\n",
    "        .get_feature_names()\n",
    "    \n",
    "train = pd.concat([train, pd.DataFrame(data=vectorizer.fit_transform(train).todense(), columns=pos_features)], 1)\n",
    "test = pd.concat([test, pd.DataFrame(data=vectorizer.transform(test).todense(), columns=pos_features)], 1)"
   ]
  },
  {
   "cell_type": "code",
   "execution_count": 12,
   "metadata": {},
   "outputs": [
    {
     "name": "stdout",
     "output_type": "stream",
     "text": [
      "time: 7.55 s\n"
     ]
    }
   ],
   "source": [
    "for data in [train, test]:\n",
    "    data['dialogue'] = data['dialogue'].apply(lambda x:str(x))\n",
    "    data['total_length'] = data['dialogue'].apply(len)\n",
    "    data['capitals'] = data['dialogue'].apply(lambda comment: sum(1 for c in comment if c.isupper()))\n",
    "    data['caps_vs_length'] = data.apply(lambda row: float(row['capitals'])/float(row['total_length']), axis=1)\n",
    "    data['num_words'] = data.dialogue.str.count('\\S+')\n",
    "    data['num_unique_words'] = data['dialogue'].apply(lambda comment: len(set(w for w in comment.split())))\n",
    "    data['words_vs_unique'] = data['num_unique_words'] / data['num_words'] \n",
    "    data['count_sent'] = data[\"dialogue\"].apply(lambda x: len(re.findall(\"<BR>\",str(x)))+1)\n",
    "    data['count_word'] = data[\"dialogue\"].apply(lambda x: len(str(x).split()))\n",
    "    data['count_unique_word'] = data[\"dialogue\"].apply(lambda x: len(set(str(x).split())))\n",
    "    data['count_letters'] = data[\"dialogue\"].apply(lambda x: len(str(x)))\n",
    "    data[\"count_punctuations\"] = data[\"dialogue\"].apply(lambda x: len([c for c in str(x) if c in string.punctuation]))\n",
    "    data[\"count_words_upper\"] = data[\"dialogue\"].apply(lambda x: len([w for w in str(x).split() if w.isupper()]))\n",
    "    data[\"count_words_title\"] = data[\"dialogue\"].apply(lambda x: len([w for w in str(x).split() if w.istitle()]))\n",
    "    data[\"count_stopwords\"] = data[\"dialogue\"].apply(lambda x: len([w for w in str(x).lower().split() if w in eng_stopwords]))\n",
    "    data[\"mean_word_len\"] = data[\"dialogue\"].apply(lambda x: np.mean([len(w) for w in str(x).split()]))\n",
    "    data['word_unique_percent'] = data['count_unique_word']*100/data['count_word']\n",
    "    data['punct_percent'] = data['count_punctuations']*100/data['count_word']"
   ]
  },
  {
   "cell_type": "code",
   "execution_count": 14,
   "metadata": {
    "scrolled": true
   },
   "outputs": [
    {
     "name": "stdout",
     "output_type": "stream",
     "text": [
      "time: 9.6 s\n"
     ]
    }
   ],
   "source": [
    "columns = [\n",
    "    'total_length', 'capitals', 'caps_vs_length', 'num_words', \n",
    "    'num_unique_words', 'words_vs_unique', 'count_letters', \n",
    "    'count_punctuations', 'count_words_upper', 'count_words_title', \n",
    "    'count_stopwords', 'mean_word_len', 'word_unique_percent', 'punct_percent'\n",
    "]\n",
    "\n",
    "def get_mean_cols(df, col_name, op, groupby_col):\n",
    "    if col_name==groupby_col:\n",
    "        return df\n",
    "    if op=='mean':\n",
    "        return pd.merge(df, df.groupby(groupby_col)[[col_name]].mean().reset_index().rename(columns={col_name:'{}_mean'.format(col_name)}), on=groupby_col )    \n",
    "    if op=='median':\n",
    "        return pd.merge(df, df.groupby(groupby_col)[[col_name]].median().reset_index().rename(columns={col_name:'{}_median'.format(col_name)}), on=groupby_col )    \n",
    "    if op == 'sum':\n",
    "        return pd.merge(df, df.groupby(groupby_col)[[col_name]].sum().reset_index().rename(columns={col_name:'{}_sum'.format(col_name)}), on=groupby_col )    \n",
    "    if op=='q25':\n",
    "        return pd.merge(df, df.groupby(groupby_col)[[col_name]].apply(lambda x:np.percentile(x, 25)).reset_index(), how='left', on=groupby_col).rename(columns={0:'{}_q25'.format(col_name)})    \n",
    "    if op=='q80':\n",
    "        return pd.merge(df, df.groupby(groupby_col)[[col_name]].apply(lambda x:np.percentile(x, 80)).reset_index(), how='left', on=groupby_col).rename(columns={0:'{}_q80'.format(col_name)}) \n",
    "    if op=='q75':\n",
    "        return pd.merge(df, df.groupby(groupby_col)[[col_name]].apply(lambda x:np.percentile(x, 75)).reset_index(), how='left', on=groupby_col).rename(columns={0:'{}_q75'.format(col_name)}) \n",
    "    return df\n",
    "\n",
    "for f in ['mean', 'sum', 'q25', 'q75', 'q80']:\n",
    "    for col_name in columns:\n",
    "        train = get_mean_cols(train, col_name, f, 'count_sent')\n",
    "        test = get_mean_cols(test, col_name, f, 'count_sent')"
   ]
  },
  {
   "cell_type": "markdown",
   "metadata": {},
   "source": [
    ">### Load sentiment"
   ]
  },
  {
   "cell_type": "code",
   "execution_count": 16,
   "metadata": {},
   "outputs": [
    {
     "name": "stdout",
     "output_type": "stream",
     "text": [
      "time: 72.8 ms\n"
     ]
    }
   ],
   "source": [
    "train_sent = pd.read_csv('predictions/sent_prob.csv', usecols = ['neg'])\n",
    "test_sent = pd.read_csv('predictions/sent_prob_test.csv', usecols = ['neg'])\n",
    "\n",
    "train = pd.concat([train, train_sent], 1)\n",
    "test = pd.concat([test, test_sent], 1)"
   ]
  },
  {
   "cell_type": "markdown",
   "metadata": {},
   "source": [
    ">### Load stacked"
   ]
  },
  {
   "cell_type": "code",
   "execution_count": 17,
   "metadata": {},
   "outputs": [
    {
     "name": "stdout",
     "output_type": "stream",
     "text": [
      "time: 16 s\n"
     ]
    }
   ],
   "source": [
    "predictions = [\n",
    "    'lr0',\n",
    "    'nb0',\n",
    "    'lr1',\n",
    "    'nb1',\n",
    "    \n",
    "    'lrchar0',\n",
    "    'nbchar0',\n",
    "    'lrchar1',\n",
    "    'nbchar1',\n",
    "\n",
    "    'lrword0',\n",
    "    'nbword0',\n",
    "    'lrword1',\n",
    "    'nbword1',\n",
    "\n",
    "    'lrword0ngram12',\n",
    "    'nbword0ngram12',\n",
    "    'lrword1ngram12',\n",
    "    'nbword1ngram12',\n",
    "    \n",
    "    'lrlemm0',\n",
    "    'nblemm0',\n",
    "    'lrlemm1',\n",
    "    'nblemm1',\n",
    "\n",
    "    'mlp0',\n",
    "    'mlp0ngram12',\n",
    "    \n",
    "    'rnnft0',\n",
    "    'rnnbpe0',\n",
    "    'rnnglove0',\n",
    "    \n",
    "    'ft0',\n",
    "    'ft050',  \n",
    "]\n",
    "\n",
    "for pred in predictions:\n",
    "    p_train = pd.read_csv('predictions/pred_train_{}.csv'.format(pred))\n",
    "    p_test = pd.read_csv('predictions/pred_test_{}.csv'.format(pred))\n",
    "    train = pd.concat([train, p_train], 1)\n",
    "    test = pd.concat([test, p_test], 1)"
   ]
  },
  {
   "cell_type": "markdown",
   "metadata": {},
   "source": [
    ">### Fit"
   ]
  },
  {
   "cell_type": "code",
   "execution_count": 28,
   "metadata": {},
   "outputs": [
    {
     "name": "stdout",
     "output_type": "stream",
     "text": [
      "(36991, 662) (9403, 662)\n",
      "time: 1.43 ms\n"
     ]
    }
   ],
   "source": [
    "train_X = train.iloc[:, 5:]\n",
    "test_X = test.iloc[:, 3:]\n",
    "\n",
    "print(train_X.shape, test_X.shape)"
   ]
  },
  {
   "cell_type": "code",
   "execution_count": 23,
   "metadata": {},
   "outputs": [
    {
     "name": "stdout",
     "output_type": "stream",
     "text": [
      "time: 14.3 ms\n"
     ]
    }
   ],
   "source": [
    "def val_predict_fold_lgbm(j, params, dev_index, val_index):\n",
    "    pred_train_y = np.zeros(len(train_X))\n",
    "    dev_X, val_X = train_X.iloc[dev_index], train_X.iloc[val_index]\n",
    "    dev_y, val_y = np.squeeze(np.array(train_y[:, j][dev_index])), np.squeeze(np.array(train_y[:, j][val_index]))\n",
    "    _train = lgbm.Dataset(dev_X, dev_y)\n",
    "    _val = lgbm.Dataset(val_X, val_y)        \n",
    "    model = lgbm.train(params, _train, num_boost_round=9000, valid_sets=_val, early_stopping_rounds=20, verbose_eval=0) \n",
    "    score = model.best_score['valid_0'][params['metric']]\n",
    "    pred_train_y[val_index] = model.predict(val_X)\n",
    "    pred_test_y = model.predict(test_X)   \n",
    "    del model, dev_X, val_X, dev_y, val_y, _train, _val; gc.collect();\n",
    "    return score, pred_train_y, pred_test_y\n",
    "\n",
    "def val_predict_oof_lgbm(i, n, params):  \n",
    "    if __name__ == '__main__':\n",
    "        kf = StratifiedKFold(n_splits=n, shuffle=True, random_state=0)\n",
    "        with multiprocess.Pool(n) as p:\n",
    "            r = list(p.imap(lambda x: val_predict_fold_lgbm(i, params, x[0], x[1]), kf.split(train_y[:, i], train_y[:, i]), chunksize=1))\n",
    "    return r, np.mean([x[0] for x in r]), np.sum([x[1] for x in r], axis=0), np.sum([x[2] for x in r], axis=0) / float(n)"
   ]
  },
  {
   "cell_type": "code",
   "execution_count": 27,
   "metadata": {
    "scrolled": true
   },
   "outputs": [
    {
     "name": "stdout",
     "output_type": "stream",
     "text": [
      "cv action\n",
      "0.9213831843292276\n",
      "cv adventure\n",
      "0.9203341085049626\n",
      "cv animation\n",
      "0.7303369099768667\n",
      "cv biography\n",
      "0.888443052056014\n",
      "cv comedy\n",
      "0.9272339519520404\n",
      "cv crime\n",
      "0.8972583404073624\n",
      "cv drama\n",
      "0.9190782907015886\n",
      "cv family\n",
      "0.8989620700573855\n",
      "cv fantasy\n",
      "0.8614702362478251\n",
      "cv history\n",
      "0.8609490756481752\n",
      "cv horror\n",
      "0.8671987007410671\n",
      "cv music\n",
      "0.8859602699104332\n",
      "cv musical\n",
      "0.9006018246869181\n",
      "cv mystery\n",
      "0.8563225757258168\n",
      "cv romance\n",
      "0.8803340080472009\n",
      "cv scifi\n",
      "0.9420167833116428\n",
      "cv sport\n",
      "0.9249705805641639\n",
      "cv thriller\n",
      "0.9186861396442649\n",
      "cv war\n",
      "0.9321228794564306\n",
      "cv western\n",
      "0.8852123007277857\n",
      "0.8909437641348585\n",
      "time: 2min 47s\n"
     ]
    }
   ],
   "source": [
    "params = {\n",
    "    'colsample_bytree': 0.2,\n",
    "    'subsample': 0.6,\n",
    "    'num_leaves': 9,\n",
    "    'min_gain_to_split': 0.01,\n",
    "    'min_child_samples': 30,\n",
    "    'learning_rate': 0.01,\n",
    "    'reg_alpha': 0.001,\n",
    "    'reg_lambda': 0.001, \n",
    "    'max_bin': 300,    \n",
    "    \n",
    "    'objective': 'binary',\n",
    "    'metric': 'auc',\n",
    "    'subsample_freq': 1,\n",
    "    'max_depth': -1,\n",
    "    'random_state': 1234567890,\n",
    "    'n_jobs': 1,    \n",
    "}\n",
    "\n",
    "preds_test = np.zeros((test_X.shape[0], len(label_cols)))\n",
    "preds_train = np.zeros((train_X.shape[0], len(label_cols)))\n",
    "cv_scores = list()\n",
    "\n",
    "for i, j in enumerate(label_cols):\n",
    "    print('cv', j)\n",
    "    r, scores, pred_train, pred_test = val_predict_oof_lgbm(i, 5, params)\n",
    "    preds_train[:, i] = pred_train\n",
    "    preds_test[:, i] = pred_test.flatten()\n",
    "    cv_scores.append(np.mean(scores))\n",
    "    print(np.mean(scores))\n",
    "    \n",
    "print(np.mean(cv_scores))"
   ]
  },
  {
   "cell_type": "markdown",
   "metadata": {},
   "source": [
    ">### Thresholds"
   ]
  },
  {
   "cell_type": "code",
   "execution_count": 29,
   "metadata": {},
   "outputs": [
    {
     "name": "stdout",
     "output_type": "stream",
     "text": [
      "time: 6.24 ms\n"
     ]
    }
   ],
   "source": [
    "from sklearn.metrics import f1_score\n",
    "\n",
    "def f1_metric(y_true_in, y_pred_in):\n",
    "    metric = []\n",
    "    kf = StratifiedKFold(n_splits=5, shuffle=True, random_state=0)\n",
    "    for dev_index, val_index in kf.split(y_true_in, y_true_in):\n",
    "        f1 = f1_score(y_true_in[val_index], y_pred_in[val_index])\n",
    "        metric.append(f1)\n",
    "    return np.mean(metric)"
   ]
  },
  {
   "cell_type": "code",
   "execution_count": 30,
   "metadata": {
    "scrolled": true
   },
   "outputs": [
    {
     "name": "stdout",
     "output_type": "stream",
     "text": [
      "cv action\n",
      "0.6609032325918152 [0.36469388]\n",
      "cv adventure\n",
      "0.5163246962355662 [0.15510204]\n",
      "cv animation\n",
      "0.04379823075475249 [0.01]\n",
      "cv biography\n",
      "0.3577401127096852 [0.12285714]\n",
      "cv comedy\n",
      "0.7156625509311713 [0.38081633]\n",
      "cv crime\n",
      "0.5937507215572783 [0.28408163]\n",
      "cv drama\n",
      "0.8410599701566962 [0.39693878]\n",
      "cv family\n",
      "0.21537644544997486 [0.0422449]\n",
      "cv fantasy\n",
      "0.36311511464853063 [0.10673469]\n",
      "cv history\n",
      "0.14386855404461946 [0.01]\n",
      "cv horror\n",
      "0.366652279870308 [0.12285714]\n",
      "cv music\n",
      "0.24143114543114544 [0.05836735]\n",
      "cv musical\n",
      "0.25079771038850324 [0.01]\n",
      "cv mystery\n",
      "0.42128694770659025 [0.21959184]\n",
      "cv romance\n",
      "0.5520826618289357 [0.26795918]\n",
      "cv scifi\n",
      "0.644487021938517 [0.25183673]\n",
      "cv sport\n",
      "0.40142520418973165 [0.0422449]\n",
      "cv thriller\n",
      "0.7793917706248387 [0.39693878]\n",
      "cv war\n",
      "0.39846964704508353 [0.0744898]\n",
      "cv western\n",
      "0.23850250698046604 [0.02612245]\n"
     ]
    },
    {
     "data": {
      "image/png": "[encoded data removed]",
      "text/plain": [
       "<Figure size 432x288 with 1 Axes>"
      ]
     },
     "metadata": {},
     "output_type": "display_data"
    },
    {
     "name": "stdout",
     "output_type": "stream",
     "text": [
      "time: 16.3 s\n"
     ]
    }
   ],
   "source": [
    "thresholds = np.linspace(0.01, 0.8, 50)\n",
    "optimal_thresholds = []\n",
    "\n",
    "for i, j in enumerate(label_cols):\n",
    "    f1s = []\n",
    "    print('cv', j)\n",
    "    for t in thresholds:\n",
    "        f1s.append(f1_metric(np.squeeze(np.array(train_y[:, i])), preds_train[:, i] > t))\n",
    "    _=plt.plot(thresholds, f1s)\n",
    "    optimal_thresholds.append(thresholds[f1s == np.max(f1s)][0])\n",
    "    print(np.max(f1s), thresholds[f1s == np.max(f1s)])"
   ]
  },
  {
   "cell_type": "code",
   "execution_count": 29,
   "metadata": {},
   "outputs": [
    {
     "name": "stdout",
     "output_type": "stream",
     "text": [
      "time: 3.34 ms\n"
     ]
    }
   ],
   "source": [
    "preds_test_new = np.zeros(preds_test.shape)\n",
    "for i in range(20):\n",
    "    preds_test_new[:, i] = preds_test[:, i] > optimal_thresholds[i]"
   ]
  },
  {
   "cell_type": "code",
   "execution_count": 30,
   "metadata": {},
   "outputs": [
    {
     "name": "stdout",
     "output_type": "stream",
     "text": [
      "time: 121 ms\n"
     ]
    }
   ],
   "source": [
    "sample_submission['genres'] = \\\n",
    "    [' '.join(np.array(label_cols)[np.where(preds_test_new[i, :].astype(int))]) \\\n",
    "     for i in range(len(sample_submission))]"
   ]
  },
  {
   "cell_type": "code",
   "execution_count": 31,
   "metadata": {},
   "outputs": [
    {
     "name": "stdout",
     "output_type": "stream",
     "text": [
      "time: 24.2 ms\n"
     ]
    }
   ],
   "source": [
    "sample_submission.to_csv('submissions/sub_2.csv', index=False)\n",
    "# sample_submission.to_csv('submissions/sub_1.csv', index=False)\n",
    "# sample_submission.to_csv('submissions/sub_0.csv', index=False)"
   ]
  },
  {
   "cell_type": "code",
   "execution_count": null,
   "metadata": {},
   "outputs": [],
   "source": []
  }
 ],
 "metadata": {
  "kernelspec": {
   "display_name": "Python 3",
   "language": "python",
   "name": "python3"
  },
  "language_info": {
   "codemirror_mode": {
    "name": "ipython",
    "version": 3
   },
   "file_extension": ".py",
   "mimetype": "text/x-python",
   "name": "python",
   "nbconvert_exporter": "python",
   "pygments_lexer": "ipython3",
   "version": "3.5.2"
  }
 },
 "nbformat": 4,
 "nbformat_minor": 2
}
