{
 "cells": [
  {
   "cell_type": "code",
   "execution_count": null,
   "metadata": {},
   "outputs": [],
   "source": [
    "%load_ext autotime\n",
    "%load_ext autoreload\n",
    "%autoreload 2\n",
    "%matplotlib inline\n",
    "\n",
    "import matplotlib.pyplot as plt\n",
    "%matplotlib inline\n",
    "\n",
    "import pandas as pd\n",
    "import numpy as np\n",
    "\n",
    "import multiprocess, pickle, warnings, re\n",
    "from operator import itemgetter\n",
    "from typing import List, Dict\n",
    "warnings.filterwarnings('ignore')\n",
    "\n",
    "from sklearn.feature_extraction.text import CountVectorizer, TfidfVectorizer\n",
    "from sklearn.preprocessing import FunctionTransformer\n",
    "from sklearn.pipeline import make_pipeline, make_union, Pipeline\n",
    "from sklearn.metrics import log_loss, roc_auc_score\n",
    "from sklearn.model_selection import KFold, StratifiedKFold, GroupKFold\n",
    "from sklearn.base import BaseEstimator, ClassifierMixin\n",
    "from sklearn.utils.validation import check_X_y, check_is_fitted\n",
    "from sklearn.linear_model import LogisticRegression\n",
    "\n",
    "from scipy import sparse\n",
    "\n",
    "def on_field(f: str, *vec) -> Pipeline:\n",
    "    return make_pipeline(FunctionTransformer(itemgetter(f), validate=False), *vec)\n",
    "\n",
    "class NbSvmClassifier(BaseEstimator, ClassifierMixin):\n",
    "    def __init__(self, C=1.0, dual=False, n_jobs=1):\n",
    "        self.C = C\n",
    "        self.dual = dual\n",
    "        self.n_jobs = n_jobs\n",
    "\n",
    "    def predict(self, x):\n",
    "        check_is_fitted(self, ['_r', '_clf'])\n",
    "        return self._clf.predict(x.multiply(self._r))\n",
    "\n",
    "    def predict_proba(self, x):\n",
    "        check_is_fitted(self, ['_r', '_clf'])\n",
    "        return self._clf.predict_proba(x.multiply(self._r))\n",
    "\n",
    "    def fit(self, x, y):\n",
    "        x, y = check_X_y(x, y, accept_sparse=True)\n",
    "\n",
    "        def pr(x, y_i, y):\n",
    "            p = x[y==y_i].sum(0)\n",
    "            return (p+1) / ((y==y_i).sum()+1)\n",
    "\n",
    "        self._r = sparse.csr_matrix(np.log(pr(x,1,y) / pr(x,0,y)))\n",
    "        x_nb = x.multiply(self._r)\n",
    "        self._clf = LogisticRegression(C=self.C, dual=self.dual, n_jobs=self.n_jobs).fit(x_nb, y)\n",
    "        return self"
   ]
  },
  {
   "cell_type": "code",
   "execution_count": null,
   "metadata": {},
   "outputs": [],
   "source": [
    "train = pd.read_csv('/home/bananamachine/.kaggle/competitions/movie-genres-by-dialogue/train.csv.zip')\n",
    "test = pd.read_csv('/home/bananamachine/.kaggle/competitions/movie-genres-by-dialogue/X_test.csv.zip')\n",
    "\n",
    "def clean_labels(text):\n",
    "    text = re.sub('-', '', text)\n",
    "    return text \n",
    "\n",
    "train.genres = train.genres.map(lambda x: clean_labels(x))\n",
    "label_vectorizer = CountVectorizer()\n",
    "train_y = label_vectorizer.fit_transform(train.genres).todense()\n",
    "label_cols = label_vectorizer.get_feature_names()"
   ]
  },
  {
   "cell_type": "code",
   "execution_count": null,
   "metadata": {},
   "outputs": [],
   "source": [
    "vectorizer = make_union(\n",
    "    on_field('dialogue', TfidfVectorizer(sublinear_tf=True, token_pattern='\\w+')),\n",
    "    on_field('dialogue', TfidfVectorizer(sublinear_tf=True, analyzer='char', ngram_range=(2,5))),\n",
    ")\n",
    "\n",
    "train_X = vectorizer.fit_transform(train)\n",
    "test_X = vectorizer.transform(test)\n",
    "print(train_X.shape, test_X.shape)"
   ]
  },
  {
   "cell_type": "code",
   "execution_count": null,
   "metadata": {},
   "outputs": [],
   "source": [
    "def val_predict_fold(i, dev_index, val_index, params):   \n",
    "    pred_train_y = np.zeros(train_X.shape[0])\n",
    "    dev_X, val_X = train_X[dev_index], train_X[val_index]\n",
    "    dev_y, val_y = np.squeeze(np.array(train_y[:, i][dev_index])), np.squeeze(np.array(train_y[:, i][val_index]))\n",
    "    model = LogisticRegression(**params)\n",
    "    model.fit(dev_X, dev_y)\n",
    "    pred_val_y = model.predict_proba(val_X)[:, 1]\n",
    "    pred_train_y[val_index] = pred_val_y\n",
    "    pred_test_y = model.predict_proba(test_X)[:, 1]\n",
    "    score = roc_auc_score(val_y, pred_val_y)\n",
    "    return score, pred_train_y, pred_test_y\n",
    "\n",
    "def val_predict_oof(i, n, params):  \n",
    "    if __name__ == '__main__':\n",
    "        kf = StratifiedKFold(n_splits=n, shuffle=True, random_state=0)\n",
    "        with multiprocess.Pool(n) as p:\n",
    "            r = list(p.imap(lambda x: val_predict_fold(i, x[0], x[1], params), kf.split(train_y[:, i], train_y[:, i]), chunksize=1))\n",
    "    return r, np.mean([x[0] for x in r]), np.sum([x[1] for x in r], axis=0), np.sum([x[2] for x in r], axis=0) / float(n)"
   ]
  },
  {
   "cell_type": "code",
   "execution_count": null,
   "metadata": {
    "scrolled": true
   },
   "outputs": [],
   "source": [
    "params = {'C': 1.}\n",
    "preds_test = np.zeros((test_X.shape[0], len(label_cols)))\n",
    "preds_train = np.zeros((train_X.shape[0], len(label_cols)))\n",
    "cv_scores = list()\n",
    "\n",
    "for i, j in enumerate(label_cols):\n",
    "    \n",
    "    print('cv', j)\n",
    "    r, scores, pred_train, pred_test = val_predict_oof(i, 5, params)\n",
    "    preds_train[:, i] = pred_train\n",
    "    preds_test[:, i] = pred_test\n",
    "    cv_scores.append(np.mean(scores))\n",
    "    print(np.mean(scores))\n",
    "    \n",
    "print(np.mean(cv_scores))"
   ]
  },
  {
   "cell_type": "code",
   "execution_count": null,
   "metadata": {},
   "outputs": [],
   "source": [
    "for i in range(20):\n",
    "    train['pred_lr0_{}'.format(str(i))] = preds_train[:, i]\n",
    "    test['pred_lr0_{}'.format(str(i))] = preds_test[:, i]\n",
    "    \n",
    "train.iloc[:, -20:].to_csv('predictions/pred_train_lr0.csv', index=False)\n",
    "test.iloc[:, -20:].to_csv('predictions/pred_test_lr0.csv', index=False)"
   ]
  },
  {
   "cell_type": "code",
   "execution_count": null,
   "metadata": {},
   "outputs": [],
   "source": [
    "def val_predict_fold_nb(i, dev_index, val_index, params):   \n",
    "    pred_train_y = np.zeros(train_X.shape[0])\n",
    "    dev_X, val_X = train_X[dev_index], train_X[val_index]\n",
    "    dev_y, val_y = np.squeeze(np.array(train_y[:, i][dev_index])), np.squeeze(np.array(train_y[:, i][val_index]))\n",
    "    model = NbSvmClassifier(**params)\n",
    "    model.fit(dev_X, dev_y)\n",
    "    pred_val_y = model.predict_proba(val_X)[:, 1]\n",
    "    pred_train_y[val_index] = pred_val_y\n",
    "    pred_test_y = model.predict_proba(test_X)[:, 1]\n",
    "    score = roc_auc_score(val_y, pred_val_y)\n",
    "    return score, pred_train_y, pred_test_y\n",
    "\n",
    "def val_predict_oof_nb(i, n, params):  \n",
    "    if __name__ == '__main__':\n",
    "        kf = StratifiedKFold(n_splits=n, shuffle=True, random_state=0)\n",
    "        with multiprocess.Pool(n) as p:\n",
    "            r = list(p.imap(lambda x: val_predict_fold_nb(i, x[0], x[1], params), kf.split(train_y[:, i], train_y[:, i]), chunksize=1))\n",
    "    return r, np.mean([x[0] for x in r]), np.sum([x[1] for x in r], axis=0), np.sum([x[2] for x in r], axis=0) / float(n)"
   ]
  },
  {
   "cell_type": "code",
   "execution_count": null,
   "metadata": {
    "scrolled": true
   },
   "outputs": [],
   "source": [
    "params = {'C': 1.}\n",
    "preds_test = np.zeros((test_X.shape[0], len(label_cols)))\n",
    "preds_train = np.zeros((train_X.shape[0], len(label_cols)))\n",
    "cv_scores = list()\n",
    "\n",
    "for i, j in enumerate(label_cols):\n",
    "    \n",
    "    print('cv', j)\n",
    "    r, scores, pred_train, pred_test = val_predict_oof_nb(i, 5, params)\n",
    "    preds_train[:, i] = pred_train\n",
    "    preds_test[:, i] = pred_test\n",
    "    cv_scores.append(np.mean(scores))\n",
    "    print(np.mean(scores))\n",
    "    \n",
    "print(np.mean(cv_scores))"
   ]
  },
  {
   "cell_type": "code",
   "execution_count": null,
   "metadata": {},
   "outputs": [],
   "source": [
    "for i in range(20):\n",
    "    train['pred_nb0_{}'.format(str(i))] = preds_train[:, i]\n",
    "    test['pred_nb0_{}'.format(str(i))] = preds_test[:, i]\n",
    "    \n",
    "train.iloc[:, -20:].to_csv('predictions/pred_train_nb0.csv', index=False)\n",
    "test.iloc[:, -20:].to_csv('predictions/pred_test_nb0.csv', index=False)"
   ]
  },
  {
   "cell_type": "markdown",
   "metadata": {},
   "source": [
    ">### 10 folds"
   ]
  },
  {
   "cell_type": "code",
   "execution_count": null,
   "metadata": {
    "scrolled": true
   },
   "outputs": [],
   "source": [
    "params = {'C': 1.}\n",
    "preds_test = np.zeros((test_X.shape[0], len(label_cols)))\n",
    "preds_train = np.zeros((train_X.shape[0], len(label_cols)))\n",
    "cv_scores = list()\n",
    "\n",
    "for i, j in enumerate(label_cols):\n",
    "    \n",
    "    print('cv', j)\n",
    "    r, scores, pred_train, pred_test = val_predict_oof(i, 10, params)\n",
    "    preds_train[:, i] = pred_train\n",
    "    preds_test[:, i] = pred_test\n",
    "    cv_scores.append(np.mean(scores))\n",
    "    print(np.mean(scores))\n",
    "    \n",
    "print(np.mean(cv_scores))"
   ]
  },
  {
   "cell_type": "code",
   "execution_count": null,
   "metadata": {},
   "outputs": [],
   "source": [
    "for i in range(20):\n",
    "    train['pred_lr1_{}'.format(str(i))] = preds_train[:, i]\n",
    "    test['pred_lr1_{}'.format(str(i))] = preds_test[:, i]\n",
    "    \n",
    "train.iloc[:, -20:].to_csv('predictions/pred_train_lr1.csv', index=False)\n",
    "test.iloc[:, -20:].to_csv('predictions/pred_test_lr1.csv', index=False)"
   ]
  },
  {
   "cell_type": "code",
   "execution_count": null,
   "metadata": {
    "scrolled": true
   },
   "outputs": [],
   "source": [
    "params = {'C': 1.}\n",
    "preds_test = np.zeros((test_X.shape[0], len(label_cols)))\n",
    "preds_train = np.zeros((train_X.shape[0], len(label_cols)))\n",
    "cv_scores = list()\n",
    "\n",
    "for i, j in enumerate(label_cols):\n",
    "    \n",
    "    print('cv', j)\n",
    "    r, scores, pred_train, pred_test = val_predict_oof_nb(i, 10, params)\n",
    "    preds_train[:, i] = pred_train\n",
    "    preds_test[:, i] = pred_test\n",
    "    cv_scores.append(np.mean(scores))\n",
    "    print(np.mean(scores))\n",
    "    \n",
    "print(np.mean(cv_scores))"
   ]
  },
  {
   "cell_type": "code",
   "execution_count": null,
   "metadata": {},
   "outputs": [],
   "source": [
    "for i in range(20):\n",
    "    train['pred_nb1_{}'.format(str(i))] = preds_train[:, i]\n",
    "    test['pred_nb1_{}'.format(str(i))] = preds_test[:, i]\n",
    "    \n",
    "train.iloc[:, -20:].to_csv('predictions/pred_train_nb1.csv', index=False)\n",
    "test.iloc[:, -20:].to_csv('predictions/pred_test_nb1.csv', index=False)"
   ]
  },
  {
   "cell_type": "code",
   "execution_count": null,
   "metadata": {},
   "outputs": [],
   "source": []
  }
 ],
 "metadata": {
  "kernelspec": {
   "display_name": "Python 3",
   "language": "python",
   "name": "python3"
  },
  "language_info": {
   "codemirror_mode": {
    "name": "ipython",
    "version": 3
   },
   "file_extension": ".py",
   "mimetype": "text/x-python",
   "name": "python",
   "nbconvert_exporter": "python",
   "pygments_lexer": "ipython3",
   "version": "3.5.2"
  }
 },
 "nbformat": 4,
 "nbformat_minor": 2
}
